{
 "cells": [
  {
   "cell_type": "code",
   "execution_count": 1,
   "metadata": {},
   "outputs": [
    {
     "name": "stdout",
     "output_type": "stream",
     "text": [
      "<class 'pandas.core.frame.DataFrame'>\n",
      "RangeIndex: 108796 entries, 0 to 108795\n",
      "Data columns (total 3 columns):\n",
      " #   Column                                                                             Non-Null Count   Dtype  \n",
      "---  ------                                                                             --------------   -----  \n",
      " 0   Min                                                                                108796 non-null  object \n",
      " 1   Max                                                                                0 non-null       float64\n",
      " 2   Modal PriceLasalgaon from 08-Mar-2005To18-Sep-2024 (Total-4945) (Total-4945)<div>  0 non-null       float64\n",
      "dtypes: float64(2), object(1)\n",
      "memory usage: 2.5+ MB\n"
     ]
    },
    {
     "data": {
      "text/plain": [
       "(None,\n",
       "                                                  Min  Max  \\\n",
       " 0  \\t<table class=\"tableagmark_new\" cellspacing=\"...  NaN   \n",
       " 1  \\t\\t<tr style=\"color:White;background-color:Da...  NaN   \n",
       " 2  \\t\\t\\t<th scope=\"col\">Sl no.</th><th scope=\"co...  NaN   \n",
       " 3                                      \\t\\t</tr><tr>  NaN   \n",
       " 4                                         \\t\\t\\t<td>  NaN   \n",
       " \n",
       "    Modal PriceLasalgaon from 08-Mar-2005To18-Sep-2024 (Total-4945) (Total-4945)<div>  \n",
       " 0                                                NaN                                  \n",
       " 1                                                NaN                                  \n",
       " 2                                                NaN                                  \n",
       " 3                                                NaN                                  \n",
       " 4                                                NaN                                  )"
      ]
     },
     "execution_count": 1,
     "metadata": {},
     "output_type": "execute_result"
    }
   ],
   "source": [
    "import pandas as pd\n",
    "\n",
    "# Load the uploaded dataset to inspect its contents\n",
    "file_path = 'Agmarknet_Price_Report.csv'\n",
    "data = pd.read_csv(file_path)\n",
    "\n",
    "# Display basic information about the dataset and the first few rows to understand its structure\n",
    "data.info(), data.head()\n"
   ]
  },
  {
   "cell_type": "code",
   "execution_count": 2,
   "metadata": {},
   "outputs": [
    {
     "data": {
      "text/plain": [
       "0     \\t<table class=\"tableagmark_new\" cellspacing=\"...\n",
       "1     \\t\\t<tr style=\"color:White;background-color:Da...\n",
       "2     \\t\\t\\t<th scope=\"col\">Sl no.</th><th scope=\"co...\n",
       "3                                         \\t\\t</tr><tr>\n",
       "4                                            \\t\\t\\t<td>\n",
       "5                                                     1\n",
       "6                                                 </...\n",
       "7                                         <span id=\"...\n",
       "8                                             </td><td>\n",
       "9                                         <span id=\"...\n",
       "10                                            </td><td>\n",
       "11                                        <span id=\"...\n",
       "12                                            </td><td>\n",
       "13                                        <span id=\"...\n",
       "14                                            </td><td>\n",
       "15                                        <span id=\"...\n",
       "16                                            </td><td>\n",
       "17                                        <span id=\"...\n",
       "18                                            </td><td>\n",
       "19                                        <span id=\"...\n",
       "Name: Min, dtype: object"
      ]
     },
     "execution_count": 2,
     "metadata": {},
     "output_type": "execute_result"
    }
   ],
   "source": [
    "# Display the first few rows of the 'Min' column to identify patterns and clean the data\n",
    "data['Min'].head(20)\n"
   ]
  },
  {
   "cell_type": "code",
   "execution_count": 3,
   "metadata": {},
   "outputs": [
    {
     "data": {
      "text/plain": [
       "(0        []\n",
       " 1        []\n",
       " 2        []\n",
       " 3        []\n",
       " 4        []\n",
       " 5       [1]\n",
       " 6        []\n",
       " 7        []\n",
       " 8        []\n",
       " 9        []\n",
       " 10       []\n",
       " 11       []\n",
       " 12       []\n",
       " 13       []\n",
       " 14       []\n",
       " 15       []\n",
       " 16       []\n",
       " 17    [101]\n",
       " 18       []\n",
       " 19    [201]\n",
       " Name: Min_cleaned, dtype: object,\n",
       " 0                                                      \n",
       " 1                                                      \n",
       " 2     Sl no.District NameMarket NameCommodityVariety...\n",
       " 3                                                      \n",
       " 4                                                      \n",
       " 5                                                     1\n",
       " 6                                                      \n",
       " 7                                                Nashik\n",
       " 8                                                      \n",
       " 9                                             Lasalgaon\n",
       " 10                                                     \n",
       " 11                                                Onion\n",
       " 12                                                     \n",
       " 13                                                Other\n",
       " 14                                                     \n",
       " 15                                                  FAQ\n",
       " 16                                                     \n",
       " 17                                                  101\n",
       " 18                                                     \n",
       " 19                                                  201\n",
       " Name: Min_cleaned, dtype: object)"
      ]
     },
     "execution_count": 3,
     "metadata": {},
     "output_type": "execute_result"
    }
   ],
   "source": [
    "from bs4 import BeautifulSoup\n",
    "import re\n",
    "\n",
    "# Function to clean the 'Min' column by removing HTML tags\n",
    "def clean_html(text):\n",
    "    return BeautifulSoup(text, \"html.parser\").get_text(strip=True)\n",
    "\n",
    "# Apply the cleaning function to the 'Min' column\n",
    "data['Min_cleaned'] = data['Min'].apply(lambda x: clean_html(x))\n",
    "\n",
    "# Extract any rows that seem to contain numerical values (price data) after cleaning\n",
    "price_data = data['Min_cleaned'].apply(lambda x: re.findall(r'\\d+', x))  # Extract numerical values\n",
    "\n",
    "# Display the cleaned 'Min_cleaned' column and first few rows of extracted numerical values\n",
    "price_data.head(20), data['Min_cleaned'].head(20)\n"
   ]
  },
  {
   "cell_type": "code",
   "execution_count": 4,
   "metadata": {},
   "outputs": [
    {
     "data": {
      "text/plain": [
       "array(['',\n",
       "       'Sl no.District NameMarket NameCommodityVarietyGradeMin Price (Rs./Quintal)Max Price (Rs./Quintal)Modal Price (Rs./Quintal)Price Date',\n",
       "       '1', 'Nashik', 'Lasalgaon', 'Onion', 'Other', 'FAQ', '101', '201',\n",
       "       '12 Jan 2012', '2', 'Red', '300', '1112', '900', '09 Apr 2015',\n",
       "       '3', '800', '2200', '1725', '02 Jul 2021', '4', '501', '2000',\n",
       "       '1551', '23 Oct 2018', '5', '700', '1645', '1400', '13 Sep 2021',\n",
       "       '6', '400', '2300', '1301', '30 Nov 2009', '7', '2400', '1951',\n",
       "       '29 Jan 2018', '8', '334', '350', '28 Feb 2012', '9', '600',\n",
       "       '1019', '860', '08 Mar 2018'], dtype=object)"
      ]
     },
     "execution_count": 4,
     "metadata": {},
     "output_type": "execute_result"
    }
   ],
   "source": [
    "# Identifying possible dates or locations from cleaned data\n",
    "# The column has a mixture of different information, so we'll try to manually extract meaningful rows\n",
    "\n",
    "# Check unique values in cleaned data to identify patterns\n",
    "unique_cleaned = data['Min_cleaned'].unique()\n",
    "\n",
    "# Display a sample of unique cleaned rows to identify potential useful fields\n",
    "unique_cleaned[:50]\n"
   ]
  },
  {
   "cell_type": "code",
   "execution_count": 7,
   "metadata": {},
   "outputs": [
    {
     "name": "stdout",
     "output_type": "stream",
     "text": [
      "    price\n",
      "5     1.0\n",
      "17  101.0\n",
      "19  201.0\n",
      "21  101.0\n",
      "23   12.0\n"
     ]
    },
    {
     "name": "stderr",
     "output_type": "stream",
     "text": [
      "C:\\Users\\ajeev\\AppData\\Local\\Temp\\ipykernel_6388\\2240180364.py:23: SettingWithCopyWarning: \n",
      "A value is trying to be set on a copy of a slice from a DataFrame.\n",
      "Try using .loc[row_indexer,col_indexer] = value instead\n",
      "\n",
      "See the caveats in the documentation: https://pandas.pydata.org/pandas-docs/stable/user_guide/indexing.html#returning-a-view-versus-a-copy\n",
      "  price_data['price'] = price_data['price_extracted'].apply(lambda x: float(x[0]) if x else None)\n"
     ]
    }
   ],
   "source": [
    "import pandas as pd\n",
    "from bs4 import BeautifulSoup\n",
    "import re\n",
    "\n",
    "# Load the dataset\n",
    "file_path = 'Agmarknet_Price_Report.csv'\n",
    "data = pd.read_csv(file_path)\n",
    "\n",
    "# Function to clean the HTML content\n",
    "def clean_html(text):\n",
    "    return BeautifulSoup(text, \"html.parser\").get_text(strip=True)\n",
    "\n",
    "# Apply the cleaning function to the 'Min' column\n",
    "data['Min_cleaned'] = data['Min'].apply(lambda x: clean_html(x) if isinstance(x, str) else '')\n",
    "\n",
    "# Extract numerical values (prices)\n",
    "data['price_extracted'] = data['Min_cleaned'].apply(lambda x: re.findall(r'\\d+', x))\n",
    "\n",
    "# Filtering out non-price rows\n",
    "price_data = data[data['price_extracted'].apply(lambda x: len(x) > 0)]\n",
    "\n",
    "# Convert price values to integers or floats\n",
    "price_data['price'] = price_data['price_extracted'].apply(lambda x: float(x[0]) if x else None)\n",
    "\n",
    "# Drop unnecessary columns\n",
    "price_data = price_data[['price']]\n",
    "\n",
    "# Display cleaned price data\n",
    "print(price_data.head())\n",
    "\n",
    "# Save the cleaned data to a new CSV\n",
    "price_data.to_csv('cleaned_onion_price_data.csv', index=False)\n"
   ]
  },
  {
   "cell_type": "code",
   "execution_count": 8,
   "metadata": {},
   "outputs": [
    {
     "name": "stdout",
     "output_type": "stream",
     "text": [
      "Collecting hmmlearn\n",
      "  Downloading hmmlearn-0.3.2-cp311-cp311-win_amd64.whl.metadata (3.0 kB)\n",
      "Requirement already satisfied: numpy>=1.10 in c:\\users\\ajeev\\appdata\\local\\programs\\python\\python311\\lib\\site-packages (from hmmlearn) (1.26.4)\n",
      "Requirement already satisfied: scikit-learn!=0.22.0,>=0.16 in c:\\users\\ajeev\\appdata\\local\\programs\\python\\python311\\lib\\site-packages (from hmmlearn) (1.3.1)\n",
      "Requirement already satisfied: scipy>=0.19 in c:\\users\\ajeev\\appdata\\local\\programs\\python\\python311\\lib\\site-packages (from hmmlearn) (1.11.3)\n",
      "Requirement already satisfied: joblib>=1.1.1 in c:\\users\\ajeev\\appdata\\roaming\\python\\python311\\site-packages (from scikit-learn!=0.22.0,>=0.16->hmmlearn) (1.1.1)\n",
      "Requirement already satisfied: threadpoolctl>=2.0.0 in c:\\users\\ajeev\\appdata\\local\\programs\\python\\python311\\lib\\site-packages (from scikit-learn!=0.22.0,>=0.16->hmmlearn) (3.2.0)\n",
      "Downloading hmmlearn-0.3.2-cp311-cp311-win_amd64.whl (125 kB)\n",
      "   ---------------------------------------- 0.0/125.4 kB ? eta -:--:--\n",
      "   --------- ------------------------------ 30.7/125.4 kB ? eta -:--:--\n",
      "   ----------------------------- ---------- 92.2/125.4 kB 1.3 MB/s eta 0:00:01\n",
      "   ---------------------------------------  122.9/125.4 kB 1.0 MB/s eta 0:00:01\n",
      "   -------------------------------------- 125.4/125.4 kB 822.4 kB/s eta 0:00:00\n",
      "Installing collected packages: hmmlearn\n",
      "Successfully installed hmmlearn-0.3.2\n",
      "Note: you may need to restart the kernel to use updated packages.\n"
     ]
    },
    {
     "name": "stderr",
     "output_type": "stream",
     "text": [
      "\n",
      "[notice] A new release of pip is available: 24.0 -> 24.2\n",
      "[notice] To update, run: python.exe -m pip install --upgrade pip\n"
     ]
    }
   ],
   "source": [
    "pip install hmmlearn"
   ]
  },
  {
   "cell_type": "code",
   "execution_count": 9,
   "metadata": {},
   "outputs": [
    {
     "name": "stdout",
     "output_type": "stream",
     "text": [
      "Note: you may need to restart the kernel to use updated packages.\n"
     ]
    },
    {
     "name": "stderr",
     "output_type": "stream",
     "text": [
      "ERROR: Could not find a version that satisfies the requirement pywhaleopt (from versions: none)\n",
      "ERROR: No matching distribution found for pywhaleopt\n",
      "\n",
      "[notice] A new release of pip is available: 24.0 -> 24.2\n",
      "[notice] To update, run: python.exe -m pip install --upgrade pip\n"
     ]
    }
   ],
   "source": [
    "pip install pywhaleopt\n"
   ]
  },
  {
   "cell_type": "code",
   "execution_count": 10,
   "metadata": {},
   "outputs": [
    {
     "name": "stdout",
     "output_type": "stream",
     "text": [
      "Requirement already satisfied: seaborn in c:\\users\\ajeev\\appdata\\local\\programs\\python\\python311\\lib\\site-packages (0.13.0)\n",
      "Requirement already satisfied: numpy!=1.24.0,>=1.20 in c:\\users\\ajeev\\appdata\\local\\programs\\python\\python311\\lib\\site-packages (from seaborn) (1.26.4)\n",
      "Requirement already satisfied: pandas>=1.2 in c:\\users\\ajeev\\appdata\\local\\programs\\python\\python311\\lib\\site-packages (from seaborn) (2.2.0)\n",
      "Requirement already satisfied: matplotlib!=3.6.1,>=3.3 in c:\\users\\ajeev\\appdata\\local\\programs\\python\\python311\\lib\\site-packages (from seaborn) (3.8.2)\n",
      "Requirement already satisfied: contourpy>=1.0.1 in c:\\users\\ajeev\\appdata\\local\\programs\\python\\python311\\lib\\site-packages (from matplotlib!=3.6.1,>=3.3->seaborn) (1.2.0)\n",
      "Requirement already satisfied: cycler>=0.10 in c:\\users\\ajeev\\appdata\\local\\programs\\python\\python311\\lib\\site-packages (from matplotlib!=3.6.1,>=3.3->seaborn) (0.12.1)\n",
      "Requirement already satisfied: fonttools>=4.22.0 in c:\\users\\ajeev\\appdata\\local\\programs\\python\\python311\\lib\\site-packages (from matplotlib!=3.6.1,>=3.3->seaborn) (4.48.1)\n",
      "Requirement already satisfied: kiwisolver>=1.3.1 in c:\\users\\ajeev\\appdata\\local\\programs\\python\\python311\\lib\\site-packages (from matplotlib!=3.6.1,>=3.3->seaborn) (1.4.5)\n",
      "Requirement already satisfied: packaging>=20.0 in c:\\users\\ajeev\\appdata\\local\\programs\\python\\python311\\lib\\site-packages (from matplotlib!=3.6.1,>=3.3->seaborn) (23.2)\n",
      "Requirement already satisfied: pillow>=8 in c:\\users\\ajeev\\appdata\\local\\programs\\python\\python311\\lib\\site-packages (from matplotlib!=3.6.1,>=3.3->seaborn) (10.2.0)\n",
      "Requirement already satisfied: pyparsing>=2.3.1 in c:\\users\\ajeev\\appdata\\local\\programs\\python\\python311\\lib\\site-packages (from matplotlib!=3.6.1,>=3.3->seaborn) (3.1.1)\n",
      "Requirement already satisfied: python-dateutil>=2.7 in c:\\users\\ajeev\\appdata\\local\\programs\\python\\python311\\lib\\site-packages (from matplotlib!=3.6.1,>=3.3->seaborn) (2.8.2)\n",
      "Requirement already satisfied: pytz>=2020.1 in c:\\users\\ajeev\\appdata\\local\\programs\\python\\python311\\lib\\site-packages (from pandas>=1.2->seaborn) (2023.3)\n",
      "Requirement already satisfied: tzdata>=2022.7 in c:\\users\\ajeev\\appdata\\local\\programs\\python\\python311\\lib\\site-packages (from pandas>=1.2->seaborn) (2023.3)\n",
      "Requirement already satisfied: six>=1.5 in c:\\users\\ajeev\\appdata\\local\\programs\\python\\python311\\lib\\site-packages (from python-dateutil>=2.7->matplotlib!=3.6.1,>=3.3->seaborn) (1.16.0)\n",
      "Note: you may need to restart the kernel to use updated packages.\n"
     ]
    },
    {
     "name": "stderr",
     "output_type": "stream",
     "text": [
      "\n",
      "[notice] A new release of pip is available: 24.0 -> 24.2\n",
      "[notice] To update, run: python.exe -m pip install --upgrade pip\n"
     ]
    }
   ],
   "source": [
    "pip install seaborn\n"
   ]
  },
  {
   "cell_type": "code",
   "execution_count": 1,
   "metadata": {},
   "outputs": [
    {
     "ename": "ModuleNotFoundError",
     "evalue": "No module named 'pywhaleopt'",
     "output_type": "error",
     "traceback": [
      "\u001b[1;31m---------------------------------------------------------------------------\u001b[0m",
      "\u001b[1;31mModuleNotFoundError\u001b[0m                       Traceback (most recent call last)",
      "Cell \u001b[1;32mIn[1], line 11\u001b[0m\n\u001b[0;32m      9\u001b[0m \u001b[38;5;28;01mfrom\u001b[39;00m \u001b[38;5;21;01mkeras\u001b[39;00m\u001b[38;5;21;01m.\u001b[39;00m\u001b[38;5;21;01mmodels\u001b[39;00m \u001b[38;5;28;01mimport\u001b[39;00m Sequential\n\u001b[0;32m     10\u001b[0m \u001b[38;5;28;01mfrom\u001b[39;00m \u001b[38;5;21;01mkeras\u001b[39;00m\u001b[38;5;21;01m.\u001b[39;00m\u001b[38;5;21;01mlayers\u001b[39;00m \u001b[38;5;28;01mimport\u001b[39;00m LSTM, Dense\n\u001b[1;32m---> 11\u001b[0m \u001b[38;5;28;01mfrom\u001b[39;00m \u001b[38;5;21;01mpywhaleopt\u001b[39;00m\u001b[38;5;21;01m.\u001b[39;00m\u001b[38;5;21;01mwhale_optimization_algorithm\u001b[39;00m \u001b[38;5;28;01mimport\u001b[39;00m WhaleOptimization\n",
      "\u001b[1;31mModuleNotFoundError\u001b[0m: No module named 'pywhaleopt'"
     ]
    }
   ],
   "source": [
    "import numpy as np\n",
    "import pandas as pd\n",
    "import matplotlib.pyplot as plt\n",
    "import seaborn as sns\n",
    "from sklearn.model_selection import train_test_split\n",
    "from sklearn.preprocessing import MinMaxScaler\n",
    "from sklearn.metrics import classification_report, f1_score, confusion_matrix\n",
    "from hmmlearn.hmm import GaussianHMM\n",
    "from keras.models import Sequential\n",
    "from keras.layers import LSTM, Dense\n",
    "from pywhaleopt.whale_optimization_algorithm import WhaleOptimization\n",
    "\n",
    "    "
   ]
  },
  {
   "cell_type": "code",
   "execution_count": 3,
   "metadata": {},
   "outputs": [
    {
     "name": "stdout",
     "output_type": "stream",
     "text": [
      "Note: you may need to restart the kernel to use updated packages.\n"
     ]
    },
    {
     "name": "stderr",
     "output_type": "stream",
     "text": [
      "ERROR: Could not find a version that satisfies the requirement pywhaleopt (from versions: none)\n",
      "ERROR: No matching distribution found for pywhaleopt\n",
      "\n",
      "[notice] A new release of pip is available: 24.0 -> 24.2\n",
      "[notice] To update, run: python.exe -m pip install --upgrade pip\n"
     ]
    }
   ],
   "source": [
    "pip install pywhaleopt"
   ]
  },
  {
   "cell_type": "code",
   "execution_count": 2,
   "metadata": {},
   "outputs": [
    {
     "name": "stdout",
     "output_type": "stream",
     "text": [
      "Collecting optuna\n",
      "  Downloading optuna-4.0.0-py3-none-any.whl.metadata (16 kB)\n",
      "Collecting alembic>=1.5.0 (from optuna)\n",
      "  Downloading alembic-1.13.2-py3-none-any.whl.metadata (7.4 kB)\n",
      "Collecting colorlog (from optuna)\n",
      "  Downloading colorlog-6.8.2-py3-none-any.whl.metadata (10 kB)\n",
      "Requirement already satisfied: numpy in c:\\users\\ajeev\\appdata\\local\\programs\\python\\python311\\lib\\site-packages (from optuna) (1.26.4)\n",
      "Requirement already satisfied: packaging>=20.0 in c:\\users\\ajeev\\appdata\\local\\programs\\python\\python311\\lib\\site-packages (from optuna) (23.2)\n",
      "Requirement already satisfied: sqlalchemy>=1.3.0 in c:\\users\\ajeev\\appdata\\local\\programs\\python\\python311\\lib\\site-packages (from optuna) (2.0.21)\n",
      "Requirement already satisfied: tqdm in c:\\users\\ajeev\\appdata\\local\\programs\\python\\python311\\lib\\site-packages (from optuna) (4.66.1)\n",
      "Requirement already satisfied: PyYAML in c:\\users\\ajeev\\appdata\\local\\programs\\python\\python311\\lib\\site-packages (from optuna) (6.0.1)\n",
      "Collecting Mako (from alembic>=1.5.0->optuna)\n",
      "  Downloading Mako-1.3.5-py3-none-any.whl.metadata (2.9 kB)\n",
      "Requirement already satisfied: typing-extensions>=4 in c:\\users\\ajeev\\appdata\\local\\programs\\python\\python311\\lib\\site-packages (from alembic>=1.5.0->optuna) (4.8.0)\n",
      "Requirement already satisfied: greenlet!=0.4.17 in c:\\users\\ajeev\\appdata\\local\\programs\\python\\python311\\lib\\site-packages (from sqlalchemy>=1.3.0->optuna) (2.0.2)\n",
      "Requirement already satisfied: colorama in c:\\users\\ajeev\\appdata\\local\\programs\\python\\python311\\lib\\site-packages (from colorlog->optuna) (0.4.6)\n",
      "Requirement already satisfied: MarkupSafe>=0.9.2 in c:\\users\\ajeev\\appdata\\local\\programs\\python\\python311\\lib\\site-packages (from Mako->alembic>=1.5.0->optuna) (2.1.3)\n",
      "Downloading optuna-4.0.0-py3-none-any.whl (362 kB)\n",
      "   ---------------------------------------- 0.0/362.8 kB ? eta -:--:--\n",
      "   ------ --------------------------------- 61.4/362.8 kB 1.6 MB/s eta 0:00:01\n",
      "   ---------------- ----------------------- 153.6/362.8 kB 1.8 MB/s eta 0:00:01\n",
      "   ---------------------------- ----------- 256.0/362.8 kB 2.0 MB/s eta 0:00:01\n",
      "   ---------------------------------------- 362.8/362.8 kB 2.2 MB/s eta 0:00:00\n",
      "Downloading alembic-1.13.2-py3-none-any.whl (232 kB)\n",
      "   ---------------------------------------- 0.0/233.0 kB ? eta -:--:--\n",
      "   ---------------------------------------- 233.0/233.0 kB 4.7 MB/s eta 0:00:00\n",
      "Downloading colorlog-6.8.2-py3-none-any.whl (11 kB)\n",
      "Downloading Mako-1.3.5-py3-none-any.whl (78 kB)\n",
      "   ---------------------------------------- 0.0/78.6 kB ? eta -:--:--\n",
      "   ------------------------------- -------- 61.4/78.6 kB 3.2 MB/s eta 0:00:01\n",
      "   ---------------------------------------- 78.6/78.6 kB 2.2 MB/s eta 0:00:00\n",
      "Installing collected packages: Mako, colorlog, alembic, optuna\n",
      "Successfully installed Mako-1.3.5 alembic-1.13.2 colorlog-6.8.2 optuna-4.0.0\n",
      "Note: you may need to restart the kernel to use updated packages.\n"
     ]
    },
    {
     "name": "stderr",
     "output_type": "stream",
     "text": [
      "  WARNING: The script mako-render.exe is installed in 'c:\\Users\\ajeev\\AppData\\Local\\Programs\\Python\\Python311\\Scripts' which is not on PATH.\n",
      "  Consider adding this directory to PATH or, if you prefer to suppress this warning, use --no-warn-script-location.\n",
      "  WARNING: The script alembic.exe is installed in 'c:\\Users\\ajeev\\AppData\\Local\\Programs\\Python\\Python311\\Scripts' which is not on PATH.\n",
      "  Consider adding this directory to PATH or, if you prefer to suppress this warning, use --no-warn-script-location.\n",
      "  WARNING: The script optuna.exe is installed in 'c:\\Users\\ajeev\\AppData\\Local\\Programs\\Python\\Python311\\Scripts' which is not on PATH.\n",
      "  Consider adding this directory to PATH or, if you prefer to suppress this warning, use --no-warn-script-location.\n",
      "\n",
      "[notice] A new release of pip is available: 24.0 -> 24.2\n",
      "[notice] To update, run: python.exe -m pip install --upgrade pip\n"
     ]
    }
   ],
   "source": [
    "pip install optuna\n"
   ]
  },
  {
   "cell_type": "code",
   "execution_count": 1,
   "metadata": {},
   "outputs": [],
   "source": [
    "import numpy as np\n",
    "import pandas as pd\n",
    "import matplotlib.pyplot as plt\n",
    "import seaborn as sns\n",
    "from sklearn.model_selection import train_test_split\n",
    "from sklearn.preprocessing import MinMaxScaler\n",
    "from sklearn.metrics import classification_report, f1_score, confusion_matrix\n",
    "from hmmlearn.hmm import GaussianHMM\n",
    "from keras.models import Sequential\n",
    "from keras.layers import LSTM, Dense\n",
    "import optuna"
   ]
  },
  {
   "cell_type": "code",
   "execution_count": 2,
   "metadata": {},
   "outputs": [],
   "source": [
    "# Load the cleaned dataset\n",
    "file_path = 'cleaned_onion_price_data.csv'\n",
    "data = pd.read_csv(file_path)"
   ]
  },
  {
   "cell_type": "code",
   "execution_count": 3,
   "metadata": {},
   "outputs": [],
   "source": [
    "# Prepare labels: increase or decrease based on next day's price\n",
    "data['Price_Change'] = data['price'].diff().shift(-1)\n",
    "data['Label'] = np.where(data['Price_Change'] > 0, 1, 0)\n",
    "data = data.dropna()"
   ]
  },
  {
   "cell_type": "code",
   "execution_count": 4,
   "metadata": {},
   "outputs": [],
   "source": [
    "# Split into train and test sets\n",
    "X = data[['price']]\n",
    "y = data['Label']\n",
    "X_train, X_test, y_train, y_test = train_test_split(X, y, test_size=0.2, shuffle=False)\n"
   ]
  },
  {
   "cell_type": "code",
   "execution_count": 5,
   "metadata": {},
   "outputs": [],
   "source": [
    "# Scale the data\n",
    "scaler = MinMaxScaler()\n",
    "X_train_scaled = scaler.fit_transform(X_train)\n",
    "X_test_scaled = scaler.transform(X_test)"
   ]
  },
  {
   "cell_type": "code",
   "execution_count": 6,
   "metadata": {},
   "outputs": [],
   "source": [
    "# Optuna for Hyperparameter Optimization\n",
    "def objective(trial):\n",
    "    # Hyperparameters to tune\n",
    "    batch_size = trial.suggest_int('batch_size', 10, 100)\n",
    "    epochs = trial.suggest_int('epochs', 10, 100)"
   ]
  },
  {
   "cell_type": "code",
   "execution_count": 7,
   "metadata": {},
   "outputs": [],
   "source": [
    "# Build the LSTM model\n",
    "model = Sequential()\n",
    "model.add(LSTM(units=50, activation='relu', input_shape=(1, 1)))\n",
    "model.add(Dense(1, activation='sigmoid'))"
   ]
  },
  {
   "cell_type": "code",
   "execution_count": 8,
   "metadata": {},
   "outputs": [],
   "source": [
    "model.compile(optimizer='adam', loss='binary_crossentropy', metrics=['accuracy'])\n",
    "    "
   ]
  },
  {
   "cell_type": "code",
   "execution_count": 9,
   "metadata": {},
   "outputs": [],
   "source": [
    "# Reshape input for LSTM\n",
    "X_train_reshaped = X_train_scaled.reshape((X_train_scaled.shape[0], 1, 1))\n",
    "    "
   ]
  },
  {
   "cell_type": "code",
   "execution_count": 12,
   "metadata": {},
   "outputs": [
    {
     "data": {
      "text/plain": [
       "<keras.src.callbacks.History at 0x2a7d18ffb90>"
      ]
     },
     "execution_count": 12,
     "metadata": {},
     "output_type": "execute_result"
    }
   ],
   "source": [
    "# Train model\n",
    "model.fit(X_train_reshaped, y_train, epochs=10, batch_size=32, verbose=0)\n",
    "    "
   ]
  },
  {
   "cell_type": "code",
   "execution_count": 14,
   "metadata": {},
   "outputs": [],
   "source": [
    "# Optuna for Hyperparameter Optimization\n",
    "def objective(trial):\n",
    "    # Hyperparameters to tune\n",
    "    batch_size = trial.suggest_int('batch_size', 10, 100)\n",
    "    epochs = trial.suggest_int('epochs', 10, 100)\n",
    "    \n",
    "    # Build the LSTM model\n",
    "    model = Sequential()\n",
    "    model.add(LSTM(units=50, activation='relu', input_shape=(1, 1)))\n",
    "    model.add(Dense(1, activation='sigmoid'))\n",
    "    \n",
    "    model.compile(optimizer='adam', loss='binary_crossentropy', metrics=['accuracy'])\n",
    "    \n",
    "    # Reshape input for LSTM\n",
    "    X_train_reshaped = X_train_scaled.reshape((X_train_scaled.shape[0], 1, 1))\n",
    "    \n",
    "    # Train model\n",
    "    model.fit(X_train_reshaped, y_train, epochs=epochs, batch_size=batch_size, verbose=0)\n",
    "    \n",
    "    # Reshape test data for evaluation\n",
    "    X_test_reshaped = X_test_scaled.reshape((X_test_scaled.shape[0], 1, 1))\n",
    "    \n",
    "    # Evaluate the model\n",
    "    _, accuracy = model.evaluate(X_test_reshaped, y_test, verbose=0)\n",
    "    \n",
    "    # Return accuracy as objective score\n",
    "    return accuracy\n"
   ]
  },
  {
   "cell_type": "code",
   "execution_count": 15,
   "metadata": {},
   "outputs": [
    {
     "name": "stderr",
     "output_type": "stream",
     "text": [
      "[I 2024-09-18 10:54:24,092] A new study created in memory with name: no-name-281d3c5a-e1fb-4440-84fd-5b1f33d04300\n",
      "[I 2024-09-18 10:55:14,844] Trial 0 finished with value: 0.8465116024017334 and parameters: {'batch_size': 35, 'epochs': 21}. Best is trial 0 with value: 0.8465116024017334.\n",
      "[I 2024-09-18 10:57:01,627] Trial 1 finished with value: 0.8519716858863831 and parameters: {'batch_size': 66, 'epochs': 91}. Best is trial 1 with value: 0.8519716858863831.\n",
      "[I 2024-09-18 10:58:22,120] Trial 2 finished with value: 0.851567268371582 and parameters: {'batch_size': 43, 'epochs': 28}. Best is trial 1 with value: 0.8519716858863831.\n",
      "[I 2024-09-18 11:03:09,507] Trial 3 finished with value: 0.8495450019836426 and parameters: {'batch_size': 23, 'epochs': 81}. Best is trial 1 with value: 0.8519716858863831.\n",
      "[I 2024-09-18 11:03:41,817] Trial 4 finished with value: 0.843478262424469 and parameters: {'batch_size': 97, 'epochs': 32}. Best is trial 1 with value: 0.8519716858863831.\n",
      "[I 2024-09-18 11:04:57,137] Trial 5 finished with value: 0.8499494194984436 and parameters: {'batch_size': 70, 'epochs': 65}. Best is trial 1 with value: 0.8519716858863831.\n",
      "[I 2024-09-18 11:07:02,947] Trial 6 finished with value: 0.8465116024017334 and parameters: {'batch_size': 34, 'epochs': 46}. Best is trial 1 with value: 0.8519716858863831.\n",
      "[I 2024-09-18 11:11:04,447] Trial 7 finished with value: 0.8406471014022827 and parameters: {'batch_size': 27, 'epochs': 82}. Best is trial 1 with value: 0.8519716858863831.\n",
      "[I 2024-09-18 11:11:35,347] Trial 8 finished with value: 0.8465116024017334 and parameters: {'batch_size': 58, 'epochs': 21}. Best is trial 1 with value: 0.8519716858863831.\n",
      "[I 2024-09-18 11:12:10,309] Trial 9 finished with value: 0.8481294512748718 and parameters: {'batch_size': 99, 'epochs': 41}. Best is trial 1 with value: 0.8519716858863831.\n"
     ]
    }
   ],
   "source": [
    "# Optimize hyperparameters using Optuna\n",
    "study = optuna.create_study(direction='maximize')\n",
    "study.optimize(objective, n_trials=10)"
   ]
  },
  {
   "cell_type": "code",
   "execution_count": 16,
   "metadata": {},
   "outputs": [
    {
     "name": "stdout",
     "output_type": "stream",
     "text": [
      "Best parameters: {'batch_size': 66, 'epochs': 91}\n"
     ]
    }
   ],
   "source": [
    "# Best hyperparameters\n",
    "best_params = study.best_params\n",
    "print(f\"Best parameters: {best_params}\")"
   ]
  },
  {
   "cell_type": "code",
   "execution_count": 17,
   "metadata": {},
   "outputs": [],
   "source": [
    "# Build and train the final LSTM model using the best hyperparameters\n",
    "batch_size_opt = best_params['batch_size']\n",
    "epochs_opt = best_params['epochs']"
   ]
  },
  {
   "cell_type": "code",
   "execution_count": 18,
   "metadata": {},
   "outputs": [],
   "source": [
    "model = Sequential()\n",
    "model.add(LSTM(units=50, activation='relu', input_shape=(1, 1)))\n",
    "model.add(Dense(1, activation='sigmoid'))\n",
    "\n",
    "model.compile(optimizer='adam', loss='binary_crossentropy', metrics=['accuracy'])"
   ]
  },
  {
   "cell_type": "code",
   "execution_count": 19,
   "metadata": {},
   "outputs": [],
   "source": [
    "# Reshape input for LSTM\n",
    "X_train_reshaped = X_train_scaled.reshape((X_train_scaled.shape[0], 1, 1))\n",
    "X_test_reshaped = X_test_scaled.reshape((X_test_scaled.shape[0], 1, 1))"
   ]
  },
  {
   "cell_type": "code",
   "execution_count": 20,
   "metadata": {},
   "outputs": [
    {
     "name": "stdout",
     "output_type": "stream",
     "text": [
      "Epoch 1/91\n",
      "300/300 [==============================] - 5s 7ms/step - loss: 0.6831 - accuracy: 0.5659 - val_loss: 0.6624 - val_accuracy: 0.6006\n",
      "Epoch 2/91\n",
      "300/300 [==============================] - 2s 5ms/step - loss: 0.6683 - accuracy: 0.5672 - val_loss: 0.6304 - val_accuracy: 0.6006\n",
      "Epoch 3/91\n",
      "300/300 [==============================] - 2s 6ms/step - loss: 0.6359 - accuracy: 0.5672 - val_loss: 0.5607 - val_accuracy: 0.6006\n",
      "Epoch 4/91\n",
      "300/300 [==============================] - 2s 6ms/step - loss: 0.5753 - accuracy: 0.7465 - val_loss: 0.4817 - val_accuracy: 0.8334\n",
      "Epoch 5/91\n",
      "300/300 [==============================] - 3s 10ms/step - loss: 0.5183 - accuracy: 0.8257 - val_loss: 0.4328 - val_accuracy: 0.8542\n",
      "Epoch 6/91\n",
      "300/300 [==============================] - 3s 10ms/step - loss: 0.4770 - accuracy: 0.8360 - val_loss: 0.4031 - val_accuracy: 0.8502\n",
      "Epoch 7/91\n",
      "300/300 [==============================] - 3s 9ms/step - loss: 0.4487 - accuracy: 0.8396 - val_loss: 0.3816 - val_accuracy: 0.8599\n",
      "Epoch 8/91\n",
      "300/300 [==============================] - 2s 6ms/step - loss: 0.4292 - accuracy: 0.8389 - val_loss: 0.3678 - val_accuracy: 0.8584\n",
      "Epoch 9/91\n",
      "300/300 [==============================] - 2s 7ms/step - loss: 0.4161 - accuracy: 0.8377 - val_loss: 0.3578 - val_accuracy: 0.8487\n",
      "Epoch 10/91\n",
      "300/300 [==============================] - 2s 7ms/step - loss: 0.4069 - accuracy: 0.8334 - val_loss: 0.3515 - val_accuracy: 0.8491\n",
      "Epoch 11/91\n",
      "300/300 [==============================] - 2s 7ms/step - loss: 0.4006 - accuracy: 0.8300 - val_loss: 0.3469 - val_accuracy: 0.8522\n",
      "Epoch 12/91\n",
      "300/300 [==============================] - 2s 7ms/step - loss: 0.3961 - accuracy: 0.8281 - val_loss: 0.3430 - val_accuracy: 0.8406\n",
      "Epoch 13/91\n",
      "300/300 [==============================] - 2s 6ms/step - loss: 0.3931 - accuracy: 0.8304 - val_loss: 0.3413 - val_accuracy: 0.8439\n",
      "Epoch 14/91\n",
      "300/300 [==============================] - 2s 7ms/step - loss: 0.3911 - accuracy: 0.8302 - val_loss: 0.3389 - val_accuracy: 0.8518\n",
      "Epoch 15/91\n",
      "300/300 [==============================] - 2s 6ms/step - loss: 0.3895 - accuracy: 0.8325 - val_loss: 0.3377 - val_accuracy: 0.8520\n",
      "Epoch 16/91\n",
      "300/300 [==============================] - 2s 6ms/step - loss: 0.3887 - accuracy: 0.8339 - val_loss: 0.3368 - val_accuracy: 0.8522\n",
      "Epoch 17/91\n",
      "300/300 [==============================] - 2s 6ms/step - loss: 0.3877 - accuracy: 0.8315 - val_loss: 0.3362 - val_accuracy: 0.8514\n",
      "Epoch 18/91\n",
      "300/300 [==============================] - 2s 6ms/step - loss: 0.3873 - accuracy: 0.8325 - val_loss: 0.3358 - val_accuracy: 0.8520\n",
      "Epoch 19/91\n",
      "300/300 [==============================] - 2s 6ms/step - loss: 0.3870 - accuracy: 0.8316 - val_loss: 0.3362 - val_accuracy: 0.8467\n",
      "Epoch 20/91\n",
      "300/300 [==============================] - 2s 6ms/step - loss: 0.3867 - accuracy: 0.8316 - val_loss: 0.3361 - val_accuracy: 0.8406\n",
      "Epoch 21/91\n",
      "300/300 [==============================] - 3s 9ms/step - loss: 0.3863 - accuracy: 0.8323 - val_loss: 0.3365 - val_accuracy: 0.8423\n",
      "Epoch 22/91\n",
      "300/300 [==============================] - 3s 9ms/step - loss: 0.3863 - accuracy: 0.8314 - val_loss: 0.3352 - val_accuracy: 0.8520\n",
      "Epoch 23/91\n",
      "300/300 [==============================] - 3s 10ms/step - loss: 0.3861 - accuracy: 0.8329 - val_loss: 0.3348 - val_accuracy: 0.8465\n",
      "Epoch 24/91\n",
      "300/300 [==============================] - 3s 9ms/step - loss: 0.3858 - accuracy: 0.8292 - val_loss: 0.3346 - val_accuracy: 0.8465\n",
      "Epoch 25/91\n",
      "300/300 [==============================] - 3s 10ms/step - loss: 0.3859 - accuracy: 0.8311 - val_loss: 0.3349 - val_accuracy: 0.8520\n",
      "Epoch 26/91\n",
      "300/300 [==============================] - 3s 10ms/step - loss: 0.3858 - accuracy: 0.8304 - val_loss: 0.3351 - val_accuracy: 0.8402\n",
      "Epoch 27/91\n",
      "300/300 [==============================] - 3s 9ms/step - loss: 0.3857 - accuracy: 0.8314 - val_loss: 0.3353 - val_accuracy: 0.8423\n",
      "Epoch 28/91\n",
      "300/300 [==============================] - 2s 6ms/step - loss: 0.3858 - accuracy: 0.8289 - val_loss: 0.3343 - val_accuracy: 0.8481\n",
      "Epoch 29/91\n",
      "300/300 [==============================] - 2s 7ms/step - loss: 0.3856 - accuracy: 0.8293 - val_loss: 0.3343 - val_accuracy: 0.8467\n",
      "Epoch 30/91\n",
      "300/300 [==============================] - 2s 8ms/step - loss: 0.3857 - accuracy: 0.8311 - val_loss: 0.3347 - val_accuracy: 0.8524\n",
      "Epoch 31/91\n",
      "300/300 [==============================] - 2s 5ms/step - loss: 0.3856 - accuracy: 0.8312 - val_loss: 0.3343 - val_accuracy: 0.8435\n",
      "Epoch 32/91\n",
      "300/300 [==============================] - 2s 5ms/step - loss: 0.3856 - accuracy: 0.8307 - val_loss: 0.3341 - val_accuracy: 0.8483\n",
      "Epoch 33/91\n",
      "300/300 [==============================] - 2s 5ms/step - loss: 0.3855 - accuracy: 0.8316 - val_loss: 0.3346 - val_accuracy: 0.8524\n",
      "Epoch 34/91\n",
      "300/300 [==============================] - 1s 5ms/step - loss: 0.3854 - accuracy: 0.8313 - val_loss: 0.3340 - val_accuracy: 0.8481\n",
      "Epoch 35/91\n",
      "300/300 [==============================] - 1s 5ms/step - loss: 0.3854 - accuracy: 0.8325 - val_loss: 0.3340 - val_accuracy: 0.8483\n",
      "Epoch 36/91\n",
      "300/300 [==============================] - 2s 5ms/step - loss: 0.3854 - accuracy: 0.8304 - val_loss: 0.3341 - val_accuracy: 0.8514\n",
      "Epoch 37/91\n",
      "300/300 [==============================] - 2s 5ms/step - loss: 0.3854 - accuracy: 0.8322 - val_loss: 0.3340 - val_accuracy: 0.8504\n",
      "Epoch 38/91\n",
      "300/300 [==============================] - 2s 5ms/step - loss: 0.3852 - accuracy: 0.8305 - val_loss: 0.3340 - val_accuracy: 0.8447\n",
      "Epoch 39/91\n",
      "300/300 [==============================] - 2s 5ms/step - loss: 0.3852 - accuracy: 0.8304 - val_loss: 0.3340 - val_accuracy: 0.8512\n",
      "Epoch 40/91\n",
      "300/300 [==============================] - 2s 5ms/step - loss: 0.3852 - accuracy: 0.8293 - val_loss: 0.3340 - val_accuracy: 0.8514\n",
      "Epoch 41/91\n",
      "300/300 [==============================] - 1s 4ms/step - loss: 0.3853 - accuracy: 0.8306 - val_loss: 0.3343 - val_accuracy: 0.8524\n",
      "Epoch 42/91\n",
      "300/300 [==============================] - 1s 5ms/step - loss: 0.3852 - accuracy: 0.8300 - val_loss: 0.3337 - val_accuracy: 0.8483\n",
      "Epoch 43/91\n",
      "300/300 [==============================] - 2s 5ms/step - loss: 0.3851 - accuracy: 0.8304 - val_loss: 0.3338 - val_accuracy: 0.8437\n",
      "Epoch 44/91\n",
      "300/300 [==============================] - 2s 5ms/step - loss: 0.3851 - accuracy: 0.8318 - val_loss: 0.3338 - val_accuracy: 0.8435\n",
      "Epoch 45/91\n",
      "300/300 [==============================] - 2s 6ms/step - loss: 0.3849 - accuracy: 0.8295 - val_loss: 0.3338 - val_accuracy: 0.8518\n",
      "Epoch 46/91\n",
      "300/300 [==============================] - 2s 5ms/step - loss: 0.3852 - accuracy: 0.8294 - val_loss: 0.3336 - val_accuracy: 0.8502\n",
      "Epoch 47/91\n",
      "300/300 [==============================] - 2s 6ms/step - loss: 0.3849 - accuracy: 0.8305 - val_loss: 0.3343 - val_accuracy: 0.8406\n",
      "Epoch 48/91\n",
      "300/300 [==============================] - 2s 5ms/step - loss: 0.3848 - accuracy: 0.8304 - val_loss: 0.3335 - val_accuracy: 0.8502\n",
      "Epoch 49/91\n",
      "300/300 [==============================] - 2s 5ms/step - loss: 0.3847 - accuracy: 0.8310 - val_loss: 0.3341 - val_accuracy: 0.8406\n",
      "Epoch 50/91\n",
      "300/300 [==============================] - 1s 4ms/step - loss: 0.3847 - accuracy: 0.8312 - val_loss: 0.3333 - val_accuracy: 0.8483\n",
      "Epoch 51/91\n",
      "300/300 [==============================] - 1s 5ms/step - loss: 0.3845 - accuracy: 0.8323 - val_loss: 0.3332 - val_accuracy: 0.8469\n",
      "Epoch 52/91\n",
      "300/300 [==============================] - 2s 5ms/step - loss: 0.3846 - accuracy: 0.8302 - val_loss: 0.3332 - val_accuracy: 0.8475\n",
      "Epoch 53/91\n",
      "300/300 [==============================] - 1s 4ms/step - loss: 0.3846 - accuracy: 0.8309 - val_loss: 0.3331 - val_accuracy: 0.8475\n",
      "Epoch 54/91\n",
      "300/300 [==============================] - 2s 5ms/step - loss: 0.3844 - accuracy: 0.8310 - val_loss: 0.3330 - val_accuracy: 0.8471\n",
      "Epoch 55/91\n",
      "300/300 [==============================] - 1s 5ms/step - loss: 0.3843 - accuracy: 0.8313 - val_loss: 0.3332 - val_accuracy: 0.8522\n",
      "Epoch 56/91\n",
      "300/300 [==============================] - 1s 4ms/step - loss: 0.3842 - accuracy: 0.8308 - val_loss: 0.3330 - val_accuracy: 0.8514\n",
      "Epoch 57/91\n",
      "300/300 [==============================] - 1s 5ms/step - loss: 0.3842 - accuracy: 0.8300 - val_loss: 0.3328 - val_accuracy: 0.8475\n",
      "Epoch 58/91\n",
      "300/300 [==============================] - 1s 4ms/step - loss: 0.3841 - accuracy: 0.8312 - val_loss: 0.3327 - val_accuracy: 0.8469\n",
      "Epoch 59/91\n",
      "300/300 [==============================] - 2s 5ms/step - loss: 0.3840 - accuracy: 0.8299 - val_loss: 0.3334 - val_accuracy: 0.8406\n",
      "Epoch 60/91\n",
      "300/300 [==============================] - 1s 5ms/step - loss: 0.3838 - accuracy: 0.8313 - val_loss: 0.3326 - val_accuracy: 0.8465\n",
      "Epoch 61/91\n",
      "300/300 [==============================] - 2s 5ms/step - loss: 0.3836 - accuracy: 0.8310 - val_loss: 0.3326 - val_accuracy: 0.8514\n",
      "Epoch 62/91\n",
      "300/300 [==============================] - 2s 6ms/step - loss: 0.3834 - accuracy: 0.8299 - val_loss: 0.3334 - val_accuracy: 0.8408\n",
      "Epoch 63/91\n",
      "300/300 [==============================] - 1s 5ms/step - loss: 0.3836 - accuracy: 0.8311 - val_loss: 0.3323 - val_accuracy: 0.8483\n",
      "Epoch 64/91\n",
      "300/300 [==============================] - 2s 5ms/step - loss: 0.3835 - accuracy: 0.8316 - val_loss: 0.3322 - val_accuracy: 0.8477\n",
      "Epoch 65/91\n",
      "300/300 [==============================] - 2s 6ms/step - loss: 0.3833 - accuracy: 0.8327 - val_loss: 0.3321 - val_accuracy: 0.8465\n",
      "Epoch 66/91\n",
      "300/300 [==============================] - 2s 6ms/step - loss: 0.3832 - accuracy: 0.8319 - val_loss: 0.3319 - val_accuracy: 0.8473\n",
      "Epoch 67/91\n",
      "300/300 [==============================] - 1s 5ms/step - loss: 0.3831 - accuracy: 0.8307 - val_loss: 0.3321 - val_accuracy: 0.8520\n",
      "Epoch 68/91\n",
      "300/300 [==============================] - 2s 5ms/step - loss: 0.3827 - accuracy: 0.8313 - val_loss: 0.3319 - val_accuracy: 0.8461\n",
      "Epoch 69/91\n",
      "300/300 [==============================] - 1s 4ms/step - loss: 0.3829 - accuracy: 0.8306 - val_loss: 0.3317 - val_accuracy: 0.8502\n",
      "Epoch 70/91\n",
      "300/300 [==============================] - 2s 5ms/step - loss: 0.3827 - accuracy: 0.8300 - val_loss: 0.3317 - val_accuracy: 0.8461\n",
      "Epoch 71/91\n",
      "300/300 [==============================] - 1s 5ms/step - loss: 0.3828 - accuracy: 0.8313 - val_loss: 0.3314 - val_accuracy: 0.8473\n",
      "Epoch 72/91\n",
      "300/300 [==============================] - 2s 5ms/step - loss: 0.3824 - accuracy: 0.8303 - val_loss: 0.3316 - val_accuracy: 0.8524\n",
      "Epoch 73/91\n",
      "300/300 [==============================] - 2s 5ms/step - loss: 0.3822 - accuracy: 0.8298 - val_loss: 0.3312 - val_accuracy: 0.8483\n",
      "Epoch 74/91\n",
      "300/300 [==============================] - 2s 5ms/step - loss: 0.3821 - accuracy: 0.8325 - val_loss: 0.3311 - val_accuracy: 0.8514\n",
      "Epoch 75/91\n",
      "300/300 [==============================] - 1s 5ms/step - loss: 0.3819 - accuracy: 0.8299 - val_loss: 0.3311 - val_accuracy: 0.8437\n",
      "Epoch 76/91\n",
      "300/300 [==============================] - 2s 6ms/step - loss: 0.3817 - accuracy: 0.8294 - val_loss: 0.3309 - val_accuracy: 0.8520\n",
      "Epoch 77/91\n",
      "300/300 [==============================] - 2s 6ms/step - loss: 0.3816 - accuracy: 0.8322 - val_loss: 0.3307 - val_accuracy: 0.8467\n",
      "Epoch 78/91\n",
      "300/300 [==============================] - 2s 5ms/step - loss: 0.3815 - accuracy: 0.8318 - val_loss: 0.3307 - val_accuracy: 0.8524\n",
      "Epoch 79/91\n",
      "300/300 [==============================] - 2s 6ms/step - loss: 0.3815 - accuracy: 0.8300 - val_loss: 0.3310 - val_accuracy: 0.8411\n",
      "Epoch 80/91\n",
      "300/300 [==============================] - 1s 4ms/step - loss: 0.3810 - accuracy: 0.8312 - val_loss: 0.3302 - val_accuracy: 0.8520\n",
      "Epoch 81/91\n",
      "300/300 [==============================] - 1s 4ms/step - loss: 0.3809 - accuracy: 0.8310 - val_loss: 0.3301 - val_accuracy: 0.8467\n",
      "Epoch 82/91\n",
      "300/300 [==============================] - 1s 4ms/step - loss: 0.3808 - accuracy: 0.8309 - val_loss: 0.3298 - val_accuracy: 0.8465\n",
      "Epoch 83/91\n",
      "300/300 [==============================] - 2s 5ms/step - loss: 0.3804 - accuracy: 0.8306 - val_loss: 0.3303 - val_accuracy: 0.8415\n",
      "Epoch 84/91\n",
      "300/300 [==============================] - 2s 6ms/step - loss: 0.3802 - accuracy: 0.8303 - val_loss: 0.3295 - val_accuracy: 0.8520\n",
      "Epoch 85/91\n",
      "300/300 [==============================] - 1s 5ms/step - loss: 0.3800 - accuracy: 0.8317 - val_loss: 0.3291 - val_accuracy: 0.8520\n",
      "Epoch 86/91\n",
      "300/300 [==============================] - 2s 6ms/step - loss: 0.3798 - accuracy: 0.8320 - val_loss: 0.3289 - val_accuracy: 0.8520\n",
      "Epoch 87/91\n",
      "300/300 [==============================] - 1s 4ms/step - loss: 0.3795 - accuracy: 0.8298 - val_loss: 0.3295 - val_accuracy: 0.8417\n",
      "Epoch 88/91\n",
      "300/300 [==============================] - 1s 4ms/step - loss: 0.3793 - accuracy: 0.8311 - val_loss: 0.3284 - val_accuracy: 0.8481\n",
      "Epoch 89/91\n",
      "300/300 [==============================] - 1s 5ms/step - loss: 0.3789 - accuracy: 0.8307 - val_loss: 0.3282 - val_accuracy: 0.8520\n",
      "Epoch 90/91\n",
      "300/300 [==============================] - 1s 4ms/step - loss: 0.3785 - accuracy: 0.8299 - val_loss: 0.3279 - val_accuracy: 0.8514\n",
      "Epoch 91/91\n",
      "300/300 [==============================] - 2s 5ms/step - loss: 0.3782 - accuracy: 0.8303 - val_loss: 0.3277 - val_accuracy: 0.8473\n"
     ]
    }
   ],
   "source": [
    "# Train the LSTM model\n",
    "history = model.fit(X_train_reshaped, y_train, epochs=epochs_opt, batch_size=batch_size_opt, validation_data=(X_test_reshaped, y_test))\n"
   ]
  },
  {
   "cell_type": "code",
   "execution_count": 21,
   "metadata": {},
   "outputs": [
    {
     "name": "stdout",
     "output_type": "stream",
     "text": [
      "155/155 [==============================] - 1s 4ms/step\n"
     ]
    }
   ],
   "source": [
    "# Predict and evaluate LSTM\n",
    "y_pred_lstm = (model.predict(X_test_reshaped) > 0.5).astype(\"int32\")\n"
   ]
  },
  {
   "cell_type": "code",
   "execution_count": 22,
   "metadata": {},
   "outputs": [
    {
     "data": {
      "image/png": "[encoded data removed]",
      "text/plain": [
       "<Figure size 1000x600 with 1 Axes>"
      ]
     },
     "metadata": {},
     "output_type": "display_data"
    }
   ],
   "source": [
    "# Plot loss and accuracy\n",
    "plt.figure(figsize=(10, 6))\n",
    "plt.plot(history.history['loss'], label='Train Loss')\n",
    "plt.plot(history.history['val_loss'], label='Validation Loss')\n",
    "plt.title('LSTM Model Loss')\n",
    "plt.legend()\n",
    "plt.show()\n"
   ]
  },
  {
   "cell_type": "code",
   "execution_count": 23,
   "metadata": {},
   "outputs": [
    {
     "name": "stdout",
     "output_type": "stream",
     "text": [
      "Confusion Matrix for LSTM:\n",
      "[[2520  450]\n",
      " [ 305 1670]]\n",
      "Classification Report for LSTM:\n",
      "              precision    recall  f1-score   support\n",
      "\n",
      "           0       0.89      0.85      0.87      2970\n",
      "           1       0.79      0.85      0.82      1975\n",
      "\n",
      "    accuracy                           0.85      4945\n",
      "   macro avg       0.84      0.85      0.84      4945\n",
      "weighted avg       0.85      0.85      0.85      4945\n",
      "\n",
      "F1 Score for LSTM: 0.8156288156288156\n"
     ]
    }
   ],
   "source": [
    "# Confusion matrix and F1 Score\n",
    "print(\"Confusion Matrix for LSTM:\")\n",
    "print(confusion_matrix(y_test, y_pred_lstm))\n",
    "print(\"Classification Report for LSTM:\")\n",
    "print(classification_report(y_test, y_pred_lstm))\n",
    "print(f\"F1 Score for LSTM: {f1_score(y_test, y_pred_lstm)}\")\n"
   ]
  },
  {
   "cell_type": "code",
   "execution_count": 24,
   "metadata": {},
   "outputs": [],
   "source": [
    "# Hidden Markov Model (HMM)\n",
    "hmm_model = GaussianHMM(n_components=2, covariance_type=\"diag\", n_iter=1000)\n",
    "hmm_model.fit(X_train_scaled)\n",
    "\n",
    "# Predict the future states (price increase/decrease)\n",
    "hmm_states = hmm_model.predict(X_test_scaled)"
   ]
  },
  {
   "cell_type": "code",
   "execution_count": 25,
   "metadata": {},
   "outputs": [
    {
     "name": "stdout",
     "output_type": "stream",
     "text": [
      "\n",
      "HMM Classification Report:\n",
      "              precision    recall  f1-score   support\n",
      "\n",
      "           0       0.34      0.33      0.33      2970\n",
      "           1       0.05      0.05      0.05      1975\n",
      "\n",
      "    accuracy                           0.22      4945\n",
      "   macro avg       0.19      0.19      0.19      4945\n",
      "weighted avg       0.22      0.22      0.22      4945\n",
      "\n",
      "F1 Score for HMM: 0.046671579464505036\n"
     ]
    }
   ],
   "source": [
    "# Evaluation for HMM\n",
    "print(\"\\nHMM Classification Report:\")\n",
    "print(classification_report(y_test, hmm_states))\n",
    "print(f\"F1 Score for HMM: {f1_score(y_test, hmm_states)}\")\n"
   ]
  },
  {
   "cell_type": "code",
   "execution_count": 26,
   "metadata": {},
   "outputs": [
    {
     "data": {
      "image/png": "[encoded data removed]",
      "text/plain": [
       "<Figure size 1000x600 with 1 Axes>"
      ]
     },
     "metadata": {},
     "output_type": "display_data"
    }
   ],
   "source": [
    "# Plot HMM states\n",
    "plt.figure(figsize=(10, 6))\n",
    "plt.plot(hmm_states, label='Predicted States by HMM')\n",
    "plt.title('HMM Predicted States')\n",
    "plt.legend()\n",
    "plt.show()"
   ]
  },
  {
   "cell_type": "code",
   "execution_count": null,
   "metadata": {},
   "outputs": [],
   "source": []
  }
 ],
 "metadata": {
  "kernelspec": {
   "display_name": "Python 3",
   "language": "python",
   "name": "python3"
  },
  "language_info": {
   "codemirror_mode": {
    "name": "ipython",
    "version": 3
   },
   "file_extension": ".py",
   "mimetype": "text/x-python",
   "name": "python",
   "nbconvert_exporter": "python",
   "pygments_lexer": "ipython3",
   "version": "3.11.2"
  }
 },
 "nbformat": 4,
 "nbformat_minor": 2
}
